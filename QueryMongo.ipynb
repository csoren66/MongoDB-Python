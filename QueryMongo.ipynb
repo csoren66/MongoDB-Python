{
 "cells": [
  {
   "cell_type": "markdown",
   "id": "71586760",
   "metadata": {},
   "source": [
    "## Mango Db with Python- Querying Json Documents"
   ]
  },
  {
   "cell_type": "code",
   "execution_count": 14,
   "id": "5b7de4d3",
   "metadata": {},
   "outputs": [],
   "source": [
    "import pymongo\n",
    "\n",
    "client = pymongo.MongoClient('mongodb://127.0.0.1:27017/')\n",
    "\n",
    "mydb = client['Employee']\n",
    "empinfo = mydb.employeeinformation"
   ]
  },
  {
   "cell_type": "code",
   "execution_count": 15,
   "id": "af811e34",
   "metadata": {},
   "outputs": [
    {
     "data": {
      "text/plain": [
       "<pymongo.results.InsertOneResult at 0x262aee53040>"
      ]
     },
     "execution_count": 15,
     "metadata": {},
     "output_type": "execute_result"
    }
   ],
   "source": [
    "record = {\n",
    "    'firstname':'Chandan',\n",
    "    'lastname':'Soren',\n",
    "    'deparment':'Analytics',\n",
    "    'qualification':'BE',\n",
    "    'age':29\n",
    "}\n",
    "\n",
    "empinfo.insert_one(record)"
   ]
  },
  {
   "cell_type": "code",
   "execution_count": 16,
   "id": "8eee3428",
   "metadata": {},
   "outputs": [],
   "source": [
    "record = [{\n",
    "    'firstname':'John',\n",
    "    'lastname':'Doe',\n",
    "    'deparment':'Analytics',\n",
    "    'qualification':'statistics',\n",
    "    'age':33\n",
    "},\n",
    "    {\n",
    "    'firstname':'John1',\n",
    "    'lastname':'Doe1',\n",
    "    'deparment':'Analytics1',\n",
    "    'qualification':'statistics1',\n",
    "    'age':32\n",
    "    },\n",
    "{\n",
    "    'firstname':'John2',\n",
    "    'lastname':'Doe2',\n",
    "    'deparment':'Analytics2',\n",
    "    'qualification':'statistics2',\n",
    "    'age':31\n",
    "},\n",
    "    {\n",
    "    'firstname':'John',\n",
    "    'lastname':'Doe',\n",
    "    'deparment':'Analytics',\n",
    "    'qualification':'statistics',\n",
    "    'age':30\n",
    "    }]"
   ]
  },
  {
   "cell_type": "code",
   "execution_count": 17,
   "id": "841ee0c0",
   "metadata": {},
   "outputs": [
    {
     "data": {
      "text/plain": [
       "<pymongo.results.InsertManyResult at 0x262ad0a5970>"
      ]
     },
     "execution_count": 17,
     "metadata": {},
     "output_type": "execute_result"
    }
   ],
   "source": [
    "empinfo.insert_many(record)"
   ]
  },
  {
   "cell_type": "code",
   "execution_count": 18,
   "id": "3edd2432",
   "metadata": {},
   "outputs": [
    {
     "data": {
      "text/plain": [
       "{'_id': ObjectId('63c576fade9754f9933f13de'),\n",
       " 'firstname': 'Chandan',\n",
       " 'lastname': 'Soren',\n",
       " 'department': 'Mechanical'}"
      ]
     },
     "execution_count": 18,
     "metadata": {},
     "output_type": "execute_result"
    }
   ],
   "source": [
    "## Simple way of querying\n",
    "empinfo.find_one()"
   ]
  },
  {
   "cell_type": "code",
   "execution_count": 19,
   "id": "7e41c46f",
   "metadata": {},
   "outputs": [
    {
     "name": "stdout",
     "output_type": "stream",
     "text": [
      "{'_id': ObjectId('63c576fade9754f9933f13de'), 'firstname': 'Chandan', 'lastname': 'Soren', 'department': 'Mechanical'}\n",
      "{'_id': ObjectId('63c577c6572ae339656e1e96'), 'firstname': 'Chandan', 'lastname': 'Soren', 'department': 'Mechanical'}\n",
      "{'_id': ObjectId('63c577c6572ae339656e1e97'), 'firstname': 'Chandan1', 'lastname': 'Soren1', 'department': 'Mechanical1'}\n",
      "{'_id': ObjectId('63c577c6572ae339656e1e98'), 'firstname': 'Chandan2', 'lastname': 'Soren2', 'department': 'Mechanical2'}\n",
      "{'_id': ObjectId('63c57cab06b4303a8ba5ad6c'), 'firstname': 'Chandan', 'lastname': 'Soren', 'deparment': 'Analytics', 'qualification': 'BE', 'age': 29}\n",
      "{'_id': ObjectId('63c57cad06b4303a8ba5ad6d'), 'firstname': 'John', 'lastname': 'Doe', 'deparment': 'Analytics', 'qualification': 'statistics', 'age': 33}\n",
      "{'_id': ObjectId('63c57cad06b4303a8ba5ad6e'), 'firstname': 'John1', 'lastname': 'Doe1', 'deparment': 'Analytics1', 'qualification': 'statistics1', 'age': 32}\n",
      "{'_id': ObjectId('63c57cad06b4303a8ba5ad6f'), 'firstname': 'John2', 'lastname': 'Doe2', 'deparment': 'Analytics2', 'qualification': 'statistics2', 'age': 31}\n",
      "{'_id': ObjectId('63c57cad06b4303a8ba5ad70'), 'firstname': 'John', 'lastname': 'Doe', 'deparment': 'Analytics', 'qualification': 'statistics', 'age': 30}\n",
      "{'_id': ObjectId('63c7a83bbca97a3cb5000b1f'), 'firstname': 'Chandan', 'lastname': 'Soren', 'deparment': 'Analytics', 'qualification': 'BE', 'age': 29}\n",
      "{'_id': ObjectId('63c7a83bbca97a3cb5000b20'), 'firstname': 'John', 'lastname': 'Doe', 'deparment': 'Analytics', 'qualification': 'statistics', 'age': 33}\n",
      "{'_id': ObjectId('63c7a83bbca97a3cb5000b21'), 'firstname': 'John1', 'lastname': 'Doe1', 'deparment': 'Analytics1', 'qualification': 'statistics1', 'age': 32}\n",
      "{'_id': ObjectId('63c7a83bbca97a3cb5000b22'), 'firstname': 'John2', 'lastname': 'Doe2', 'deparment': 'Analytics2', 'qualification': 'statistics2', 'age': 31}\n",
      "{'_id': ObjectId('63c7a83bbca97a3cb5000b23'), 'firstname': 'John', 'lastname': 'Doe', 'deparment': 'Analytics', 'qualification': 'statistics', 'age': 30}\n",
      "{'_id': ObjectId('63c7aa8dbca97a3cb5000b25'), 'firstname': 'Chandan', 'lastname': 'Soren', 'deparment': 'Analytics', 'qualification': 'BE', 'age': 29}\n",
      "{'_id': ObjectId('63c7aa93bca97a3cb5000b26'), 'firstname': 'John', 'lastname': 'Doe', 'deparment': 'Analytics', 'qualification': 'statistics', 'age': 33}\n",
      "{'_id': ObjectId('63c7aa93bca97a3cb5000b27'), 'firstname': 'John1', 'lastname': 'Doe1', 'deparment': 'Analytics1', 'qualification': 'statistics1', 'age': 32}\n",
      "{'_id': ObjectId('63c7aa93bca97a3cb5000b28'), 'firstname': 'John2', 'lastname': 'Doe2', 'deparment': 'Analytics2', 'qualification': 'statistics2', 'age': 31}\n",
      "{'_id': ObjectId('63c7aa93bca97a3cb5000b29'), 'firstname': 'John', 'lastname': 'Doe', 'deparment': 'Analytics', 'qualification': 'statistics', 'age': 30}\n"
     ]
    }
   ],
   "source": [
    "## Selct * from employeeinformation\n",
    "for record in empinfo.find():\n",
    "    print(record)"
   ]
  },
  {
   "cell_type": "code",
   "execution_count": 20,
   "id": "3b2bded8",
   "metadata": {},
   "outputs": [
    {
     "name": "stdout",
     "output_type": "stream",
     "text": [
      "{'_id': ObjectId('63c7aa93bca97a3cb5000b29'), 'firstname': 'John', 'lastname': 'Doe', 'deparment': 'Analytics', 'qualification': 'statistics', 'age': 30}\n",
      "{'_id': ObjectId('63c7aa93bca97a3cb5000b29'), 'firstname': 'John', 'lastname': 'Doe', 'deparment': 'Analytics', 'qualification': 'statistics', 'age': 30}\n",
      "{'_id': ObjectId('63c7aa93bca97a3cb5000b29'), 'firstname': 'John', 'lastname': 'Doe', 'deparment': 'Analytics', 'qualification': 'statistics', 'age': 30}\n",
      "{'_id': ObjectId('63c7aa93bca97a3cb5000b29'), 'firstname': 'John', 'lastname': 'Doe', 'deparment': 'Analytics', 'qualification': 'statistics', 'age': 30}\n",
      "{'_id': ObjectId('63c7aa93bca97a3cb5000b29'), 'firstname': 'John', 'lastname': 'Doe', 'deparment': 'Analytics', 'qualification': 'statistics', 'age': 30}\n"
     ]
    }
   ],
   "source": [
    "## Query the json documents based on equality condition\n",
    "# Select * from employeeinformation where firstname=chandan\n",
    "for recod in empinfo.find({'firstname':'Chandan'}):\n",
    "    print(record)"
   ]
  },
  {
   "cell_type": "code",
   "execution_count": 21,
   "id": "b4d53adb",
   "metadata": {},
   "outputs": [
    {
     "name": "stdout",
     "output_type": "stream",
     "text": [
      "{'_id': ObjectId('63c57cad06b4303a8ba5ad6d'), 'firstname': 'John', 'lastname': 'Doe', 'deparment': 'Analytics', 'qualification': 'statistics', 'age': 33}\n",
      "{'_id': ObjectId('63c57cad06b4303a8ba5ad70'), 'firstname': 'John', 'lastname': 'Doe', 'deparment': 'Analytics', 'qualification': 'statistics', 'age': 30}\n",
      "{'_id': ObjectId('63c7a83bbca97a3cb5000b20'), 'firstname': 'John', 'lastname': 'Doe', 'deparment': 'Analytics', 'qualification': 'statistics', 'age': 33}\n",
      "{'_id': ObjectId('63c7a83bbca97a3cb5000b23'), 'firstname': 'John', 'lastname': 'Doe', 'deparment': 'Analytics', 'qualification': 'statistics', 'age': 30}\n",
      "{'_id': ObjectId('63c7aa93bca97a3cb5000b26'), 'firstname': 'John', 'lastname': 'Doe', 'deparment': 'Analytics', 'qualification': 'statistics', 'age': 33}\n",
      "{'_id': ObjectId('63c7aa93bca97a3cb5000b29'), 'firstname': 'John', 'lastname': 'Doe', 'deparment': 'Analytics', 'qualification': 'statistics', 'age': 30}\n"
     ]
    }
   ],
   "source": [
    "## Query document usung query operators($in, $lt, $gt)\n",
    "for record in empinfo.find({'qualification':{'$in':['phd','statistics']}}):\n",
    "    print(record)"
   ]
  },
  {
   "cell_type": "code",
   "execution_count": 23,
   "id": "d5cada46",
   "metadata": {},
   "outputs": [],
   "source": [
    "## And and Query operators\n",
    "for record in empinfo.find({'qualification':'master','age':{'$lt':20}}):\n",
    "    print(record)"
   ]
  },
  {
   "cell_type": "code",
   "execution_count": 25,
   "id": "263ec101",
   "metadata": {},
   "outputs": [
    {
     "name": "stdout",
     "output_type": "stream",
     "text": [
      "{'_id': ObjectId('63c576fade9754f9933f13de'), 'firstname': 'Chandan', 'lastname': 'Soren', 'department': 'Mechanical'}\n",
      "{'_id': ObjectId('63c577c6572ae339656e1e96'), 'firstname': 'Chandan', 'lastname': 'Soren', 'department': 'Mechanical'}\n",
      "{'_id': ObjectId('63c57cab06b4303a8ba5ad6c'), 'firstname': 'Chandan', 'lastname': 'Soren', 'deparment': 'Analytics', 'qualification': 'BE', 'age': 29}\n",
      "{'_id': ObjectId('63c7a83bbca97a3cb5000b1f'), 'firstname': 'Chandan', 'lastname': 'Soren', 'deparment': 'Analytics', 'qualification': 'BE', 'age': 29}\n",
      "{'_id': ObjectId('63c7aa8dbca97a3cb5000b25'), 'firstname': 'Chandan', 'lastname': 'Soren', 'deparment': 'Analytics', 'qualification': 'BE', 'age': 29}\n"
     ]
    }
   ],
   "source": [
    "## OR operators\n",
    "for record in empinfo.find({'$or':[{'firstname':'Chandan'}, {'qualification':'master'}]}):\n",
    "    print(record)"
   ]
  },
  {
   "cell_type": "code",
   "execution_count": 26,
   "id": "c6513ede",
   "metadata": {},
   "outputs": [],
   "source": [
    "inventory=mydb.inventory"
   ]
  },
  {
   "cell_type": "code",
   "execution_count": 27,
   "id": "ca523576",
   "metadata": {},
   "outputs": [],
   "source": [
    "inventory.insert_many( [\n",
    "   { 'item': \"journal\", 'qty': 25, 'size': { 'h': 14, 'w': 21,'uom': \"cm\" }, 'status': \"A\" },\n",
    "   { 'item': \"notebook\", 'qty': 50,'size': { 'h': 8.5, 'w': 11,'uom': \"in\" },'status': \"A\" },\n",
    "   { 'item': \"paper\", 'qty': 100, 'size': { 'h': 8.5, 'w': 11,'uom': \"in\" },'status': \"D\" },\n",
    "   { 'item': \"planner\", 'qty': 75, 'size': { 'h': 22.85,'w': 30,'uom': \"cm\" },'status': \"D\" },\n",
    "   { 'item': \"postcard\", 'qty': 45, 'size': { 'h': 10, 'w': 15.25,'uom': \"cm\" },'status': \"A\" }\n",
    "]);"
   ]
  },
  {
   "cell_type": "code",
   "execution_count": 28,
   "id": "c22a67a9",
   "metadata": {},
   "outputs": [
    {
     "ename": "SyntaxError",
     "evalue": "invalid syntax (1913822231.py, line 1)",
     "output_type": "error",
     "traceback": [
      "\u001b[1;36m  Input \u001b[1;32mIn [28]\u001b[1;36m\u001b[0m\n\u001b[1;33m    for record in inventory.find('size': { 'h': 14, 'w': 21,'uom': \"cm\" }):\u001b[0m\n\u001b[1;37m                                       ^\u001b[0m\n\u001b[1;31mSyntaxError\u001b[0m\u001b[1;31m:\u001b[0m invalid syntax\n"
     ]
    }
   ],
   "source": [
    "for record in inventory.find('size': { 'h': 14, 'w': 21,'uom': \"cm\" }):\n",
    "    print(record)"
   ]
  },
  {
   "cell_type": "code",
   "execution_count": null,
   "id": "718f70be",
   "metadata": {},
   "outputs": [],
   "source": []
  }
 ],
 "metadata": {
  "kernelspec": {
   "display_name": "Python 3 (ipykernel)",
   "language": "python",
   "name": "python3"
  },
  "language_info": {
   "codemirror_mode": {
    "name": "ipython",
    "version": 3
   },
   "file_extension": ".py",
   "mimetype": "text/x-python",
   "name": "python",
   "nbconvert_exporter": "python",
   "pygments_lexer": "ipython3",
   "version": "3.9.12"
  }
 },
 "nbformat": 4,
 "nbformat_minor": 5
}
