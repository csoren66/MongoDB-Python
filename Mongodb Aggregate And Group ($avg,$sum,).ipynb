{
 "cells": [
  {
   "cell_type": "markdown",
   "id": "c2ab60aa",
   "metadata": {},
   "source": [
    "### Mongodb Aggregate And Group\n",
    "1. avg\n",
    "2. sum\n",
    "3. project"
   ]
  },
  {
   "cell_type": "code",
   "execution_count": 1,
   "id": "b2eeaf57",
   "metadata": {},
   "outputs": [
    {
     "data": {
      "text/plain": [
       "<pymongo.results.InsertManyResult at 0x1fcacf6fca0>"
      ]
     },
     "execution_count": 1,
     "metadata": {},
     "output_type": "execute_result"
    }
   ],
   "source": [
    "from pymongo import MongoClient  \n",
    "    \n",
    "# creation of object MongoClient  \n",
    "client=MongoClient()  \n",
    "    \n",
    "# Connect with the portnumber and host  \n",
    "client = MongoClient(\"mongodb://localhost:27017/\")  \n",
    "    \n",
    "# Access database  \n",
    "mydatabase = client['Students']  \n",
    "    \n",
    "# Access collection of the database  \n",
    "collection=mydatabase['studentscores']  \n",
    "data = [ \n",
    "    {\"user\":\"Chandan\", \"subject\":\"Database\", \"score\":80}, \n",
    "    {\"user\":\"Amit\",  \"subject\":\"JavaScript\", \"score\":90}, \n",
    "    {\"user\":\"Amit\",  \"title\":\"Database\", \"score\":85}, \n",
    "    {\"user\":\"Chandan\",  \"title\":\"JavaScript\", \"score\":75}, \n",
    "    {\"user\":\"Amit\",  \"title\":\"Data Science\", \"score\":60},\n",
    "    {\"user\":\"Chandan\",  \"title\":\"Data Science\", \"score\":95}] \n",
    "  \n",
    "collection.insert_many(data) "
   ]
  },
  {
   "cell_type": "code",
   "execution_count": 2,
   "id": "6dd58a20",
   "metadata": {},
   "outputs": [],
   "source": [
    "### Find Chandan and Amit Total Subjects\n",
    "agg_result = collection.aggregate(\n",
    "[{\n",
    "    \"$group\" :\n",
    "        {\"_id\":\"$user\",\n",
    "         \"Total_Subject\":{\"$sum\":1}\n",
    "        }\n",
    "}])"
   ]
  },
  {
   "cell_type": "code",
   "execution_count": 3,
   "id": "4dc86d60",
   "metadata": {},
   "outputs": [
    {
     "name": "stdout",
     "output_type": "stream",
     "text": [
      "{'_id': 'Amit', 'Total_Subject': 3}\n",
      "{'_id': 'Chandan', 'Total_Subject': 3}\n"
     ]
    }
   ],
   "source": [
    "for i in agg_result:\n",
    "    print(i)"
   ]
  },
  {
   "cell_type": "code",
   "execution_count": 5,
   "id": "19c31dc0",
   "metadata": {},
   "outputs": [],
   "source": [
    "### Calculate the total score based on user\n",
    "agg_result = collection.aggregate(\n",
    "[{\n",
    "    \"$group\" :\n",
    "        {\"_id\":\"$user\",\n",
    "         \"Total Marks\":{\"$sum\":\"$score\"}\n",
    "        }\n",
    "}])"
   ]
  },
  {
   "cell_type": "code",
   "execution_count": 6,
   "id": "f1f8119f",
   "metadata": {},
   "outputs": [
    {
     "name": "stdout",
     "output_type": "stream",
     "text": [
      "{'_id': 'Chandan', 'Total Marks': 250}\n",
      "{'_id': 'Amit', 'Total Marks': 235}\n"
     ]
    }
   ],
   "source": [
    "for i in agg_result:\n",
    "    print(i)"
   ]
  },
  {
   "cell_type": "code",
   "execution_count": 7,
   "id": "770029f1",
   "metadata": {},
   "outputs": [],
   "source": [
    "### Calulate the average score based on user\n",
    "agg_result = collection.aggregate(\n",
    "[{\n",
    "    \"$group\": {\n",
    "        \"_id\": '$user',\n",
    "        \"StudentScoreAverage\": {\n",
    "            \"$avg\": \"$score\"\n",
    "        }\n",
    "    }\n",
    "}])"
   ]
  },
  {
   "cell_type": "code",
   "execution_count": 8,
   "id": "d543c9e9",
   "metadata": {},
   "outputs": [
    {
     "name": "stdout",
     "output_type": "stream",
     "text": [
      "{'_id': 'Amit', 'StudentScoreAverage': 78.33333333333333}\n",
      "{'_id': 'Chandan', 'StudentScoreAverage': 83.33333333333333}\n"
     ]
    }
   ],
   "source": [
    "for i in agg_result:\n",
    "    print(i)"
   ]
  },
  {
   "cell_type": "code",
   "execution_count": 10,
   "id": "76c3a417",
   "metadata": {},
   "outputs": [],
   "source": [
    "import datetime as datetime"
   ]
  },
  {
   "cell_type": "code",
   "execution_count": 11,
   "id": "8e9b8199",
   "metadata": {},
   "outputs": [],
   "source": [
    "### Create a new collection\n",
    "data=[{ \"_id\" : 1, \"item\" : \"abc\", \"price\" : 10, \"quantity\" : 2, \"date\" : datetime.datetime.utcnow()},\n",
    "{ \"_id\" : 2, \"item\" : \"jkl\", \"price\" : 20, \"quantity\" : 1, \"date\" : datetime.datetime.utcnow() },\n",
    "{ \"_id\" : 3, \"item\" : \"xyz\", \"price\" : 5, \"quantity\" : 5, \"date\" : datetime.datetime.utcnow() },\n",
    "{ \"_id\" : 4, \"item\" : \"abc\", \"price\" : 10, \"quantity\" : 10, \"date\" : datetime.datetime.utcnow() },\n",
    "{ \"_id\" : 5, \"item\" : \"xyz\", \"price\" : 5, \"quantity\" : 10, \"date\" :datetime.datetime.utcnow() }]"
   ]
  },
  {
   "cell_type": "code",
   "execution_count": 12,
   "id": "6c352a21",
   "metadata": {},
   "outputs": [
    {
     "data": {
      "text/plain": [
       "[{'_id': 1,\n",
       "  'item': 'abc',\n",
       "  'price': 10,\n",
       "  'quantity': 2,\n",
       "  'date': datetime.datetime(2023, 1, 18, 8, 48, 45, 510960)},\n",
       " {'_id': 2,\n",
       "  'item': 'jkl',\n",
       "  'price': 20,\n",
       "  'quantity': 1,\n",
       "  'date': datetime.datetime(2023, 1, 18, 8, 48, 45, 510960)},\n",
       " {'_id': 3,\n",
       "  'item': 'xyz',\n",
       "  'price': 5,\n",
       "  'quantity': 5,\n",
       "  'date': datetime.datetime(2023, 1, 18, 8, 48, 45, 510960)},\n",
       " {'_id': 4,\n",
       "  'item': 'abc',\n",
       "  'price': 10,\n",
       "  'quantity': 10,\n",
       "  'date': datetime.datetime(2023, 1, 18, 8, 48, 45, 510960)},\n",
       " {'_id': 5,\n",
       "  'item': 'xyz',\n",
       "  'price': 5,\n",
       "  'quantity': 10,\n",
       "  'date': datetime.datetime(2023, 1, 18, 8, 48, 45, 510960)}]"
      ]
     },
     "execution_count": 12,
     "metadata": {},
     "output_type": "execute_result"
    }
   ],
   "source": [
    "data"
   ]
  },
  {
   "cell_type": "code",
   "execution_count": null,
   "id": "34d93a1e",
   "metadata": {},
   "outputs": [],
   "source": [
    "mycollection = mydatabase['stores']\n",
    "mycollection.insert_many(data)"
   ]
  }
 ],
 "metadata": {
  "kernelspec": {
   "display_name": "Python 3 (ipykernel)",
   "language": "python",
   "name": "python3"
  },
  "language_info": {
   "codemirror_mode": {
    "name": "ipython",
    "version": 3
   },
   "file_extension": ".py",
   "mimetype": "text/x-python",
   "name": "python",
   "nbconvert_exporter": "python",
   "pygments_lexer": "ipython3",
   "version": "3.9.12"
  }
 },
 "nbformat": 4,
 "nbformat_minor": 5
}
